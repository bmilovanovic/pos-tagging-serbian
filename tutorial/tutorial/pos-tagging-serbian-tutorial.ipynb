{
 "cells": [
  {
   "cell_type": "markdown",
   "metadata": {},
   "source": [
    "<h1>Kreiranje tagera za srpski jezik pomoću NLTK alata</h1>\n",
    "\n",
    "U 2019. godini objavljeni su značajni radovi u oblasti obrade prirodnih jezika. Na osnovu jezičkog modela BERT čiji je tvorac kompanija Google, napravljene su varijante poput DistilBERT, RoBERTa, AlBERT, XLNet i drugi, koji dostižu visoke rezultate u raznim zadacima obrade prirodnog jezika. Primjene su sve šire, algoritmi kompleksniji. Ispod ovog visoko apstraktnog nivoa, može se naći ograničen skup zadataka koji i dalje predstavljaju izazov za istraživače. Mala poboljšanja u osnovnim zadacima poput tagiranja direktno i višestruko utiču na zadatke koji stoje kasnije u sekvenci obrade (eng. pipeline)."
   ]
  },
  {
   "cell_type": "markdown",
   "metadata": {},
   "source": [
    "<h2>Tagiranje</h2>\n",
    "\n",
    "Tagiranje (ili etiketiranje) je proces dodjele oznake (tag, etiketa) svakom tokenu u određenom tekstu. Prema tipu taga koji se dodjeljuje, tagiranje može imati razne primjene. U osnovnoj varijanti, tagiranje podrazumijeva određivanje vrste riječi u rečenici (eng. POS tagging). \n",
    "\n",
    "Program koji vrši tagiranje naziva se tager. Ovakvi programi mogu biti kreirani na brojne načine, a u ovom radu će biti govoreno o primjeni NLTK alata u kreiranju tagera."
   ]
  },
  {
   "cell_type": "markdown",
   "metadata": {},
   "source": [
    "<h3>Automatsko tagiranje pomoću NLTK platforme</h3>\n",
    "\n",
    "NLTK je biblioteka napisana u programskom jeziku Pajton. Pored toga što sadrži više od 50 korpusa i jezičkih resursa, koristi se za pravljenje programa za rad nad podacima generisanim ljudskim jezikom. Ovakvi programi imaju primjene u klasifikaciji, tokenizaciji, stemovanju, tagiranju, parsiranju i semantičkom odlučivanju.\n",
    "\n",
    "Automatsko tagiranje podrazumijeva dodjelu taga svakom tokenu u nepoznatom tekstu jednostavnim pokretanjem tagera."
   ]
  },
  {
   "cell_type": "code",
   "execution_count": 1,
   "metadata": {},
   "outputs": [
    {
     "data": {
      "text/plain": [
       "[('Today', 'NOUN'),\n",
       " ('we', 'PRON'),\n",
       " (\"'re\", 'VERB'),\n",
       " ('going', 'VERB'),\n",
       " ('to', 'PRT'),\n",
       " ('build', 'VERB'),\n",
       " ('a', 'DET'),\n",
       " ('tagger', 'NOUN'),\n",
       " ('for', 'ADP'),\n",
       " ('Serbian', 'ADJ'),\n",
       " ('language', 'NOUN'),\n",
       " ('.', '.')]"
      ]
     },
     "execution_count": 1,
     "metadata": {},
     "output_type": "execute_result"
    }
   ],
   "source": [
    "import nltk\n",
    "text = nltk.word_tokenize(\"Today we're going to build a tagger for Serbian language.\")\n",
    "nltk.pos_tag(text, tagset=\"universal\")"
   ]
  },
  {
   "cell_type": "markdown",
   "metadata": {},
   "source": [
    "Svakom tokenu je ispravno dodjeljena vrsta riječi osim u slučaju \"today\" (prilog). Ovo je zapravo jedan od rijetkih slučajeva da je podrazumijevani tager pogriješio. Pogledajmo kako ovaj tager radi na sprskom jeziku:"
   ]
  },
  {
   "cell_type": "code",
   "execution_count": 2,
   "metadata": {},
   "outputs": [
    {
     "data": {
      "text/plain": [
       "[('Možeš', 'NOUN'),\n",
       " ('li', 'VERB'),\n",
       " ('da', 'NOUN'),\n",
       " ('pogodiš', 'NOUN'),\n",
       " ('vrstu', 'NOUN'),\n",
       " ('riječi', 'NOUN'),\n",
       " ('u', 'ADJ'),\n",
       " ('rečenici', 'NOUN'),\n",
       " ('?', '.')]"
      ]
     },
     "execution_count": 2,
     "metadata": {},
     "output_type": "execute_result"
    }
   ],
   "source": [
    "text = nltk.word_tokenize(\"Možeš li da pogodiš vrstu riječi u rečenici?\")\n",
    "nltk.pos_tag(text, tagset=\"universal\")"
   ]
  },
  {
   "cell_type": "markdown",
   "metadata": {},
   "source": [
    "Primjećuje se da je tager u skoro svim slučajevima pogriješio. Ugrađeni tager nije primjenljiv na srpski jezik. U narednim koracima donijećemo postupnu implementaciju tagera za srpski jezik."
   ]
  },
  {
   "cell_type": "markdown",
   "metadata": {},
   "source": [
    "<h3>1. Učitavanje podataka</h3>\n",
    "\n",
    "Da bi se uopšte sproveo proces tagiranja, neophodno je da se izvrši proces tokenizacije, tj. da se ulazni tekst podijeli na tokene. Ovaj proces nije trivijalan te se njime nećemo baviti u ovom radu."
   ]
  },
  {
   "cell_type": "code",
   "execution_count": 3,
   "metadata": {},
   "outputs": [],
   "source": [
    "from pathlib import Path\n",
    "input_data = Path('tagged-data-original.txt').read_text(encoding=\"utf-8-sig\").strip().splitlines()"
   ]
  },
  {
   "cell_type": "code",
   "execution_count": 4,
   "metadata": {},
   "outputs": [
    {
     "data": {
      "text/plain": [
       "['1\\tJaroslav\\tN:m\\tPROPN\\tJaroslav',\n",
       " '1\\tHašek\\tN:m\\tPROPN\\tHašek',\n",
       " '1\\t:\\tPUNCT\\tPUNCT\\t:',\n",
       " '1\\tDOŽIVLJAJI\\tN:m\\tNOUN\\tdoživljaj']"
      ]
     },
     "execution_count": 4,
     "metadata": {},
     "output_type": "execute_result"
    }
   ],
   "source": [
    "input_data[:4]"
   ]
  },
  {
   "cell_type": "code",
   "execution_count": 18,
   "metadata": {},
   "outputs": [
    {
     "data": {
      "text/plain": [
       "[('Jaroslav', 'N:m'), ('Hašek', 'N:m'), (':', 'PUNCT'), ('DOŽIVLJAJI', 'N:m')]"
      ]
     },
     "execution_count": 18,
     "metadata": {},
     "output_type": "execute_result"
    }
   ],
   "source": [
    "input_tagged_tokens = [(tt.split()[1], tt.split()[2]) for tt in input_data]\n",
    "input_tagged_tokens[:4]"
   ]
  },
  {
   "cell_type": "code",
   "execution_count": 19,
   "metadata": {},
   "outputs": [
    {
     "data": {
      "text/plain": [
       "['Jaroslav', 'Hašek', ':', 'DOŽIVLJAJI']"
      ]
     },
     "execution_count": 19,
     "metadata": {},
     "output_type": "execute_result"
    }
   ],
   "source": [
    "input_tokens = [token for (token, tag) in input_tagged_tokens]\n",
    "input_tokens[:4]"
   ]
  },
  {
   "cell_type": "code",
   "execution_count": 20,
   "metadata": {},
   "outputs": [
    {
     "data": {
      "text/plain": [
       "199646"
      ]
     },
     "execution_count": 20,
     "metadata": {},
     "output_type": "execute_result"
    }
   ],
   "source": [
    "len(input_tagged_tokens)"
   ]
  },
  {
   "cell_type": "code",
   "execution_count": 21,
   "metadata": {},
   "outputs": [
    {
     "data": {
      "text/plain": [
       "31139"
      ]
     },
     "execution_count": 21,
     "metadata": {},
     "output_type": "execute_result"
    }
   ],
   "source": [
    "# Unique tokens\n",
    "len(list(set(input_tokens)))"
   ]
  },
  {
   "cell_type": "markdown",
   "metadata": {},
   "source": [
    "Učitali smo tekst podijeljen na tokene i njihove tagove. Međutim, za stvaranje tagera, potrebno je izvršiti podjelu na rečenice."
   ]
  },
  {
   "cell_type": "code",
   "execution_count": 24,
   "metadata": {},
   "outputs": [
    {
     "data": {
      "text/plain": [
       "10890"
      ]
     },
     "execution_count": 24,
     "metadata": {},
     "output_type": "execute_result"
    }
   ],
   "source": [
    "input_tagged_sents = []\n",
    "last_sentence = []\n",
    "\n",
    "last_sentence_number = 1\n",
    "for idx in range(len(input_data)):  # iterate through every word\n",
    "    parts = input_data[idx].split()\n",
    "    sentence_number = int(parts[0]) # 1\n",
    "    token = parts[1] # Jaroslav\n",
    "    tag = parts[2] # PROPN\n",
    "  \n",
    "    if sentence_number != last_sentence_number:        # if this is the end of the sentence, finalize it and build a new one\n",
    "        last_sentence_number = sentence_number\n",
    "        input_tagged_sents.append(last_sentence)\n",
    "        last_sentence = []    \n",
    "\n",
    "    last_sentence.append((token, tag)) # always add the current token to the last sentence\n",
    "\n",
    "# add the last sentence\n",
    "input_tagged_sents.append(last_sentence)\n",
    "\n",
    "len(input_tagged_sents)"
   ]
  },
  {
   "cell_type": "code",
   "execution_count": 25,
   "metadata": {},
   "outputs": [
    {
     "name": "stdout",
     "output_type": "stream",
     "text": [
      "[[('Jaroslav', 'N:m'), ('Hašek', 'N:m'), (':', 'PUNCT'), ('DOŽIVLJAJI', 'N:m'), ('DOBROG', 'A:am'), ('VOJNIKA', 'N:m'), ('ŠVEJKA', 'N:m'), ('u', 'PREP'), ('prvom', 'A:an'), ('svetskom', 'A:an'), ('ratu', 'N:m'), (';', 'SENT')], [('preveo', 'V:m'), ('STANISLAV', 'N:m'), ('VINAVER', 'N:m'), ('Veliko', 'A:an'), ('doba', 'N:n'), ('traži', 'V'), ('velike', 'A:af'), ('ljude', 'N:m'), ('.', 'SENT')]]\n"
     ]
    }
   ],
   "source": [
    "print(input_tagged_sents[:2])"
   ]
  },
  {
   "cell_type": "markdown",
   "metadata": {},
   "source": [
    "Sada je dobijen tekst podijeljen na rečenice te se može nastaviti sa daljom obradom."
   ]
  },
  {
   "cell_type": "markdown",
   "metadata": {},
   "source": [
    "<h3>2. Analiziranje podataka</h3>"
   ]
  },
  {
   "cell_type": "code",
   "execution_count": 26,
   "metadata": {},
   "outputs": [
    {
     "name": "stdout",
     "output_type": "stream",
     "text": [
      "[('V', 24260), ('PUNCT', 20911), ('N:m', 19776), ('N:f', 19295), ('PREP', 16542), ('CONJ', 15677), ('PRO', 13842), ('SENT', 10566), ('ADV', 8980), ('A:am', 8184), ('PAR', 7996), ('N:n', 7361), ('A:af', 6305), ('V:m', 5278), ('NUM', 3583), ('A:an', 3506), ('V:f', 2459), ('V:n', 2179), ('ABB', 641), ('N', 485), ('A:bm', 270), ('A:bf', 229), ('X', 224), ('PRO:f', 203), ('PRO:m', 190), ('A:cm', 116), ('INT', 110), ('A', 109), ('PRO:n', 106), ('A:cf', 81), ('A:bn', 73), ('A:cn', 33), ('NUM:m', 29), ('NUM:f', 17), ('A:f', 6), ('PREF', 4), ('A:m', 4), ('N:af', 3), ('NUM:n', 3), ('PRO:an', 2), ('A:n', 2), ('PRO:af', 2), ('PRO:am', 1), ('N:an', 1), ('A:asm', 1), ('A:a', 1)]\n"
     ]
    }
   ],
   "source": [
    "import matplotlib\n",
    "\n",
    "tag_fd = nltk.FreqDist(tag for (token, tag) in input_tagged_tokens)\n",
    "print(tag_fd.most_common())"
   ]
  },
  {
   "cell_type": "markdown",
   "metadata": {},
   "source": [
    "Najviše tokena je iz grupe imenica, zatim znakova interpunkcije i glagola. Zapravo, prvih 5 vrsta riječi (već navedene + pridjevi i predlozi) predstavlja 60% svih tagova, što se može vidjeti sa sledećeg dijagrama:"
   ]
  },
  {
   "cell_type": "code",
   "execution_count": 27,
   "metadata": {},
   "outputs": [
    {
     "data": {
      "text/plain": [
       "<Figure size 640x480 with 1 Axes>"
      ]
     },
     "metadata": {},
     "output_type": "display_data"
    },
    {
     "data": {
      "text/plain": [
       "<matplotlib.axes._subplots.AxesSubplot at 0x215023577b8>"
      ]
     },
     "execution_count": 27,
     "metadata": {},
     "output_type": "execute_result"
    }
   ],
   "source": [
    "tag_fd.plot(cumulative=True)"
   ]
  },
  {
   "cell_type": "markdown",
   "metadata": {},
   "source": [
    "<h3>3. Implementacija tagera</h3>\n",
    "\n",
    "U ovoj sekciji će biti data implementacija različitih tagera, a onda će se njihovim kombinovanjem dobiti tager od kojeg najviše očekujemo.\n",
    "\n",
    "Prije toga, neophodno je podijeliti podatke na skup za treniranje i skup za testiranje."
   ]
  },
  {
   "cell_type": "code",
   "execution_count": 28,
   "metadata": {},
   "outputs": [
    {
     "name": "stdout",
     "output_type": "stream",
     "text": [
      "8712\n"
     ]
    }
   ],
   "source": [
    "size = int(len(input_tagged_sents) * 0.8)\n",
    "print(size)"
   ]
  },
  {
   "cell_type": "code",
   "execution_count": 29,
   "metadata": {},
   "outputs": [],
   "source": [
    "import random\n",
    "random.shuffle(input_tagged_sents)\n",
    "train_sents = input_tagged_sents[:size]\n",
    "test_sents = input_tagged_sents[size:]"
   ]
  },
  {
   "cell_type": "markdown",
   "metadata": {},
   "source": [
    "<h4>Podrazumijevani tager (eng. Default tagger)</h4>\n",
    "\n",
    "Ovaj tager je najjednostavniji, ali može da obradi svaku riječ. Ideja koja stoji iza ovog tagera je da je, pošto najviše ima imenica, svaka riječ najvjerovatnije i jesta imenica. Tako i radi - svakoj riječi dodjeljuje tag 'imenica'.\n",
    "Ovaj tager se ne koristi zasebno, već kao podrška naprednijim tagerima koji ne tagiraju svaku riječ.\n",
    "Može se reći da, nakon što se iscrpi poznati skup riječi nekog jezika, nove riječi koje budu dolazile su vjerovatno imenice, tako da ovaj tager doprinosi robusnosti sistema."
   ]
  },
  {
   "cell_type": "code",
   "execution_count": 30,
   "metadata": {},
   "outputs": [],
   "source": [
    "pos_tag_most_frequent = tag_fd.most_common()[0][0]"
   ]
  },
  {
   "cell_type": "code",
   "execution_count": 32,
   "metadata": {},
   "outputs": [
    {
     "data": {
      "text/plain": [
       "[('Svaka', 'V'),\n",
       " ('riječ', 'V'),\n",
       " ('će', 'V'),\n",
       " ('dobiti', 'V'),\n",
       " ('isti', 'V'),\n",
       " ('tag', 'V')]"
      ]
     },
     "execution_count": 32,
     "metadata": {},
     "output_type": "execute_result"
    }
   ],
   "source": [
    "default_tagger = nltk.DefaultTagger(pos_tag_most_frequent)\n",
    "\n",
    "tokens = nltk.word_tokenize(\"Svaka riječ će dobiti isti tag\")\n",
    "default_tagger.tag(tokens)"
   ]
  },
  {
   "cell_type": "markdown",
   "metadata": {},
   "source": [
    "Svi tageri imaju veoma korisnu metodu evaluate() koja testira dobijeni tager na već tagiranom skupu riječi i vraća preciznost."
   ]
  },
  {
   "cell_type": "code",
   "execution_count": 33,
   "metadata": {},
   "outputs": [
    {
     "data": {
      "text/plain": [
       "0.12151508169459944"
      ]
     },
     "execution_count": 33,
     "metadata": {},
     "output_type": "execute_result"
    }
   ],
   "source": [
    "default_tagger.evaluate(input_tagged_sents)"
   ]
  },
  {
   "cell_type": "markdown",
   "metadata": {},
   "source": [
    "I sa ovako trivijalnim tagerom, uspješno je pogođen svaki peti token."
   ]
  },
  {
   "cell_type": "markdown",
   "metadata": {},
   "source": [
    "<h4>Tager regularnim izrazima (eng. RegExp tagger)</h4>\n",
    "\n",
    "Ideja koja se nadograđuje na tu da svakoj riječi dodijelimo isti token jeste da primjenimo grupu pravila koja će na osnovu oblika riječi donijeti odluku. Jedan takav, veoma ograničeni skup, dat je iznad. Sastoji se iz pravila kao što su: ako se riječ završava na \"ki\", onda je to pridjev, ako je na \"ti\" ili \"ći\", onda je to glagol."
   ]
  },
  {
   "cell_type": "code",
   "execution_count": 34,
   "metadata": {},
   "outputs": [],
   "source": [
    "patterns = [\n",
    "...     (r'.*ki$', 'A'),\n",
    "...     (r'.*ti$', 'V'),\n",
    "...     (r'.*ći$', 'V'),\n",
    "...     (r'^-?[0-9]+(\\.[0-9]+)?$', 'NUM'),   # cardinal numbers\n",
    "...     (r'.*', 'V')                      # nouns (default)\n",
    "... ]"
   ]
  },
  {
   "cell_type": "code",
   "execution_count": 35,
   "metadata": {},
   "outputs": [
    {
     "data": {
      "text/plain": [
       "0.13063622612023282"
      ]
     },
     "execution_count": 35,
     "metadata": {},
     "output_type": "execute_result"
    }
   ],
   "source": [
    "regexp_tagger = nltk.RegexpTagger(patterns)\n",
    "regexp_tagger.evaluate(input_tagged_sents)"
   ]
  },
  {
   "cell_type": "markdown",
   "metadata": {},
   "source": [
    "Sa ovim skupom pravila, uspješnost tagiranja se povećala u odnosu na podrazumijevani tager, ali samo za 2 procenta. Sa boljim skupom pravila tačnost bi bila veća ali samo do određene granice."
   ]
  },
  {
   "cell_type": "markdown",
   "metadata": {},
   "source": [
    "<h4>Tager prepoznavanjem (eng. Lookup tagger)</h4>\n",
    "\n",
    "Većina riječi koja se često pojavljuje nisu imenice. Potražićemo 100 riječi koje se najčešće pojavljuju i zapamtiti njihov najčešći tag."
   ]
  },
  {
   "cell_type": "code",
   "execution_count": 20,
   "metadata": {},
   "outputs": [
    {
     "data": {
      "text/plain": [
       "0.43305651002274026"
      ]
     },
     "execution_count": 20,
     "metadata": {},
     "output_type": "execute_result"
    }
   ],
   "source": [
    "fd = nltk.FreqDist(input_tokens)\n",
    "cfd = nltk.ConditionalFreqDist(input_tagged_tokens)\n",
    "most_freq_tokens = fd.most_common(100)\n",
    "likely_tags = dict((token,cfd[token].max()) for (token,_) in most_freq_tokens)\n",
    "baseline_tagger = nltk.UnigramTagger(model=likely_tags)\n",
    "baseline_tagger.evaluate(input_tagged_sents)"
   ]
  },
  {
   "cell_type": "markdown",
   "metadata": {},
   "source": [
    "Sa samo 100 memorisanih riječi i njihovih tagova, ovaj tager je uspio da pogodi skoro svaki drugi tag."
   ]
  },
  {
   "cell_type": "code",
   "execution_count": 21,
   "metadata": {},
   "outputs": [
    {
     "data": {
      "text/plain": [
       "[('Danas', None),\n",
       " ('je', 'AUX'),\n",
       " ('lijep', None),\n",
       " ('i', 'CCONJ'),\n",
       " ('sunčan', None),\n",
       " ('dan', None)]"
      ]
     },
     "execution_count": 21,
     "metadata": {},
     "output_type": "execute_result"
    }
   ],
   "source": [
    "text = nltk.word_tokenize(\"Danas je lijep i sunčan dan\")\n",
    "baseline_tagger.tag(text)"
   ]
  },
  {
   "cell_type": "markdown",
   "metadata": {},
   "source": [
    "Na nepoznatom tekstu, većina tagova su dodijeljeni kao \"None\" jer nije prepoznao riječi među odabranih 100. Moguće je da ove tokene prosledimo podrazumijevanom tageru koji će znati da ih obradi."
   ]
  },
  {
   "cell_type": "code",
   "execution_count": 22,
   "metadata": {},
   "outputs": [
    {
     "data": {
      "text/plain": [
       "0.6373130440880358"
      ]
     },
     "execution_count": 22,
     "metadata": {},
     "output_type": "execute_result"
    }
   ],
   "source": [
    "baseline_tagger = nltk.UnigramTagger(model=likely_tags, backoff=nltk.DefaultTagger(pos_tag_noun))\n",
    "baseline_tagger.evaluate(input_tagged_sents)"
   ]
  },
  {
   "cell_type": "code",
   "execution_count": 23,
   "metadata": {},
   "outputs": [],
   "source": [
    "def performance(cfd, tokenlist):\n",
    "    lt = dict((token, cfd[token].max()) for token in tokenlist)\n",
    "    baseline_tagger = nltk.UnigramTagger(model=lt, backoff=nltk.DefaultTagger(pos_tag_noun))\n",
    "    return baseline_tagger.evaluate(input_tagged_sents)\n",
    "\n",
    "def display():\n",
    "    import pylab\n",
    "    token_freqs = nltk.FreqDist(input_tokens).most_common()\n",
    "    tokens_by_freq = [w for (w, _) in token_freqs]\n",
    "    cfd = nltk.ConditionalFreqDist(input_tagged_tokens)\n",
    "    sizes = 2 ** pylab.arange(15)\n",
    "    perfs = [performance(cfd, tokens_by_freq[:size]) for size in sizes]\n",
    "    pylab.plot(sizes, perfs, '-bo')\n",
    "    # pylab.title('Performanse tagera prepoznavanjem u odnosu na model promjenljive veličine')\n",
    "    pylab.xlabel('Number of the stored tags')\n",
    "    pylab.ylabel('Accuracy')\n",
    "    pylab.show()"
   ]
  },
  {
   "cell_type": "code",
   "execution_count": 24,
   "metadata": {},
   "outputs": [
    {
     "data": {
      "image/png": "[encoded data removed]",
      "text/plain": [
       "<Figure size 432x288 with 1 Axes>"
      ]
     },
     "metadata": {
      "needs_background": "light"
     },
     "output_type": "display_data"
    }
   ],
   "source": [
    "display()"
   ]
  },
  {
   "cell_type": "markdown",
   "metadata": {},
   "source": [
    "<h4>Unigram tager</h4>\n",
    "\n",
    "Ako se tager prepoznavanjem proširi da obuhvata sve riječi i ako se proces pronalaženja najčešćih riječi i njihovih najvjerovatnijih tagova zamijeni treniranjem, dobiće se Unigram tager. Dakle, zasnovan je na jednostavnom statističkom algoritmu: za svaku riječ predložiće njen najvjerovatniji tag, iako ta riječ može imati više tagova."
   ]
  },
  {
   "cell_type": "code",
   "execution_count": 25,
   "metadata": {},
   "outputs": [
    {
     "data": {
      "text/plain": [
       "0.8678468404053354"
      ]
     },
     "execution_count": 25,
     "metadata": {},
     "output_type": "execute_result"
    }
   ],
   "source": [
    "unigram_tagger = nltk.UnigramTagger(train_sents)\n",
    "unigram_tagger.evaluate(test_sents)"
   ]
  },
  {
   "cell_type": "markdown",
   "metadata": {},
   "source": [
    "Unigram tager očekivano daje bolje rezultate od tagera prepoznavanjem, ali i dalje analizira riječ po riječ."
   ]
  },
  {
   "cell_type": "markdown",
   "metadata": {},
   "source": [
    "<h4>N-gram tager</h4>\n",
    "\n",
    "Uopštavanjem Unigram tagera gdje se analizira i kontekst riječi, a ne samo ta riječ dobija se N-gram tager. U zavisnosti od broja riječi koje prethode riječi za koju se traži tag, dobijamo Bigram, Trigram tagere itd."
   ]
  },
  {
   "cell_type": "code",
   "execution_count": 26,
   "metadata": {},
   "outputs": [
    {
     "data": {
      "text/plain": [
       "[('Danas', 'ADV'),\n",
       " ('je', 'AUX'),\n",
       " ('lijep', None),\n",
       " ('i', None),\n",
       " ('sunčan', None),\n",
       " ('dan', None),\n",
       " ('.', None)]"
      ]
     },
     "execution_count": 26,
     "metadata": {},
     "output_type": "execute_result"
    }
   ],
   "source": [
    "t2 = nltk.BigramTagger(train_sents)\n",
    "t2.tag(nltk.word_tokenize(\"Danas je lijep i sunčan dan.\"))"
   ]
  },
  {
   "cell_type": "markdown",
   "metadata": {},
   "source": [
    "Prve dvije riječi su korektno tagirane. Međutim, za ostatak riječi tager nije mogao da nađe kombinacije u trening skupu pa ih je zato označio kao 'None'."
   ]
  },
  {
   "cell_type": "markdown",
   "metadata": {},
   "source": [
    "<h4>Kombinovani tager</h4>\n",
    "\n",
    "N-gram tageri nisu uspješni u svim situacijama, te je potrebno pozvati u pomoć tagere koji znaju da rade nad manjim, neviđenim sekvencama."
   ]
  },
  {
   "cell_type": "code",
   "execution_count": 27,
   "metadata": {},
   "outputs": [
    {
     "name": "stdout",
     "output_type": "stream",
     "text": [
      "t0:  0.21400922113464335\n",
      "t1:  0.9031287753642842\n",
      "t2:  0.9050518997016692\n",
      "t3:  0.9051505214625607\n"
     ]
    }
   ],
   "source": [
    "t0 = nltk.DefaultTagger(pos_tag_noun)\n",
    "print(\"t0: \", t0.evaluate(test_sents))\n",
    "t1 = nltk.UnigramTagger(train_sents, backoff=t0)\n",
    "print(\"t1: \", t1.evaluate(test_sents))\n",
    "t2 = nltk.BigramTagger(train_sents, backoff=t1)\n",
    "print(\"t2: \", t2.evaluate(test_sents))\n",
    "t3 = nltk.TrigramTagger(train_sents, backoff=t2)\n",
    "print(\"t3: \", t3.evaluate(test_sents))"
   ]
  },
  {
   "cell_type": "markdown",
   "metadata": {},
   "source": [
    "Može se primjetiti da je dodavanjem Bigram i Trigram tagera čak došlo do smanjenja ukupne tačnosti. To obrazlažemo time što u srpskom jeziku red riječi nije striktno određen. Moguće je da bi ovaj tager doprinio više pri većem trening skupu.\n",
    "\n",
    "<h4>Afiksni tager</h4>\n",
    "\n",
    "Od sekvencijalnih tagera u NLTK alatu postoji još i afiksni tager. Ovaj tager određuje tag tokena prema prefiksu ili sufikse fiksne, konfigurabilne dužine."
   ]
  },
  {
   "cell_type": "code",
   "execution_count": 28,
   "metadata": {},
   "outputs": [
    {
     "data": {
      "text/plain": [
       "0.8845632288764516"
      ]
     },
     "execution_count": 28,
     "metadata": {},
     "output_type": "execute_result"
    }
   ],
   "source": [
    "at = nltk.AffixTagger(train_sents, backoff=t1)\n",
    "at.evaluate(test_sents)"
   ]
  },
  {
   "cell_type": "markdown",
   "metadata": {},
   "source": [
    "Postoje i nestandardni tageri, koji su vremenom ugrađivani pod uticajem eskternih saradnika, u zasebne potpakete.\n",
    "\n",
    "<h4>CRF tager</h4>\n",
    "\n",
    "Ovaj tager se zasniva na uslovnim nasumičnim poljima (eng. [Conditional Random Fields](https://en.wikipedia.org/wiki/Conditional_random_field))."
   ]
  },
  {
   "cell_type": "code",
   "execution_count": 29,
   "metadata": {},
   "outputs": [
    {
     "data": {
      "text/plain": [
       "0.9334549668384329"
      ]
     },
     "execution_count": 29,
     "metadata": {},
     "output_type": "execute_result"
    }
   ],
   "source": [
    "crft = nltk.tag.CRFTagger()\n",
    "crft.train(train_sents,'model.crf.tagger')\n",
    "\n",
    "crft.evaluate(test_sents)"
   ]
  },
  {
   "cell_type": "markdown",
   "metadata": {},
   "source": [
    "<h4>HMM tager</h4>\n",
    "\n",
    "Ovaj tager se zasniva na skrivenim Markovljevim modelima (eng. [Hidden Markov Models](https://sr.wikipedia.org/wiki/Skriveni_Markovljev_model)). "
   ]
  },
  {
   "cell_type": "code",
   "execution_count": 30,
   "metadata": {},
   "outputs": [
    {
     "data": {
      "text/plain": [
       "0.47760053255750884"
      ]
     },
     "execution_count": 30,
     "metadata": {},
     "output_type": "execute_result"
    }
   ],
   "source": [
    "hmmt = nltk.tag.hmm.HiddenMarkovModelTrainer().train_supervised(train_sents)\n",
    "\n",
    "hmmt.evaluate(test_sents)"
   ]
  },
  {
   "cell_type": "markdown",
   "metadata": {},
   "source": [
    "<h4>Perceptron tager</h4>\n",
    "\n",
    "Ovaj tager se zasniva na uprosječenoj jednoslojnoj neuralnoj mreži."
   ]
  },
  {
   "cell_type": "code",
   "execution_count": 31,
   "metadata": {
    "scrolled": true
   },
   "outputs": [
    {
     "data": {
      "text/plain": [
       "0.9499248009073202"
      ]
     },
     "execution_count": 31,
     "metadata": {},
     "output_type": "execute_result"
    }
   ],
   "source": [
    "pt = nltk.tag.perceptron.PerceptronTagger(load=False)\n",
    "pt.train(train_sents)\n",
    "\n",
    "pt.evaluate(test_sents)"
   ]
  },
  {
   "cell_type": "markdown",
   "metadata": {},
   "source": [
    "<h4>TnT tager</h4>\n",
    "\n",
    "TnT je skraćenica od engleske riječi *Trigrams'n'Tags* i predstavlja statistički tager zasnovan na drugorazrednim Markovljevim modelima. Optimizovan je za brzinu rada. Više se može naći u [originalnoj implementaciji](http://www.coli.uni-saarland.de/~thorsten/tnt/)."
   ]
  },
  {
   "cell_type": "code",
   "execution_count": 32,
   "metadata": {},
   "outputs": [
    {
     "data": {
      "text/plain": [
       "0.9055450085061268"
      ]
     },
     "execution_count": 32,
     "metadata": {},
     "output_type": "execute_result"
    }
   ],
   "source": [
    "tntt = nltk.tag.tnt.TnT(unk=t1, Trained=True)\n",
    "tntt.train(train_sents)\n",
    "\n",
    "tntt.evaluate(test_sents)"
   ]
  },
  {
   "cell_type": "markdown",
   "metadata": {},
   "source": [
    "<h4>Brilov tager</h4>\n",
    "\n",
    "Brilovi tageri polaze od datog tagera te na osnovu odabranog skupa pravila transformišu incijalno zadate tokene. Postoji više predefinisanih skupova pravila."
   ]
  },
  {
   "cell_type": "code",
   "execution_count": 33,
   "metadata": {},
   "outputs": [
    {
     "name": "stdout",
     "output_type": "stream",
     "text": [
      "brill24 \n",
      "    Return 24 templates of the seminal TBL paper, Brill (1995)\n",
      "     \n",
      "\n",
      "fntbl37 \n",
      "    Return 37 templates taken from the postagging task of the\n",
      "    fntbl distribution http://www.cs.jhu.edu/~rflorian/fntbl/\n",
      "    (37 is after excluding a handful which do not condition on Pos[0];\n",
      "    fntbl can do that but the current nltk implementation cannot.)\n",
      "     \n",
      "\n",
      "nltkdemo18 \n",
      "    Return 18 templates, from the original nltk demo, in multi-feature syntax\n",
      "     \n",
      "\n",
      "nltkdemo18plus \n",
      "    Return 18 templates, from the original nltk demo, and additionally a few\n",
      "    multi-feature ones (the motivation is easy comparison with nltkdemo18)\n",
      "     \n",
      "\n"
     ]
    }
   ],
   "source": [
    "nltk.tag.brill.describe_template_sets()"
   ]
  },
  {
   "cell_type": "markdown",
   "metadata": {},
   "source": [
    "Sortirani po performansama, od najboljeg do najlošijeg skupa pravila, pokazali su se: brill24, fntbl37, nltkdemo18plus, nltkdemo18."
   ]
  },
  {
   "cell_type": "code",
   "execution_count": 34,
   "metadata": {},
   "outputs": [
    {
     "name": "stdout",
     "output_type": "stream",
     "text": [
      "BRILL + DEFAULT:  0.6800710076678419\n",
      "BRILL + UNIGRAM:  0.9064079489139278\n",
      "BRILL + BIGRAM:  0.905939495549693\n"
     ]
    }
   ],
   "source": [
    "bt0 = nltk.tag.brill_trainer.BrillTaggerTrainer(t0, nltk.tag.brill.brill24()).train(train_sents)\n",
    "print(\"BRILL + DEFAULT: \", bt0.evaluate(test_sents))\n",
    "bt1 = nltk.tag.brill_trainer.BrillTaggerTrainer(t1, nltk.tag.brill.brill24()).train(train_sents)\n",
    "print(\"BRILL + UNIGRAM: \", bt1.evaluate(test_sents))\n",
    "bt2 = nltk.tag.brill_trainer.BrillTaggerTrainer(t2, nltk.tag.brill.brill24()).train(train_sents)\n",
    "print(\"BRILL + BIGRAM: \", bt2.evaluate(test_sents))"
   ]
  },
  {
   "cell_type": "markdown",
   "metadata": {},
   "source": [
    "<h5>Varijante Brilovog tagera nad ostalim tagerima</h5>"
   ]
  },
  {
   "cell_type": "code",
   "execution_count": 35,
   "metadata": {
    "scrolled": true
   },
   "outputs": [
    {
     "name": "stdout",
     "output_type": "stream",
     "text": [
      "Brill + CRF:  0.9376710471165463\n"
     ]
    }
   ],
   "source": [
    "bcrft = nltk.tag.brill_trainer.BrillTaggerTrainer(crft, nltk.tag.brill.brill24()).train(train_sents)\n",
    "print(\"Brill + CRF: \", bcrft.evaluate(test_sents))"
   ]
  },
  {
   "cell_type": "code",
   "execution_count": 36,
   "metadata": {},
   "outputs": [
    {
     "name": "stdout",
     "output_type": "stream",
     "text": [
      "Brill + HMM:  0.4788086491284302\n"
     ]
    }
   ],
   "source": [
    "bhmmt = nltk.tag.brill_trainer.BrillTaggerTrainer(hmmt, nltk.tag.brill.brill24()).train(train_sents)\n",
    "print(\"Brill + HMM: \", bhmmt.evaluate(test_sents))"
   ]
  },
  {
   "cell_type": "code",
   "execution_count": 37,
   "metadata": {},
   "outputs": [
    {
     "name": "stdout",
     "output_type": "stream",
     "text": [
      "BRILL + PERCEPTRON:  0.9501220444291033\n"
     ]
    }
   ],
   "source": [
    "bpt = nltk.tag.brill_trainer.BrillTaggerTrainer(pt, nltk.tag.brill.brill24()).train(train_sents)\n",
    "print(\"BRILL + PERCEPTRON: \", bpt.evaluate(test_sents))"
   ]
  },
  {
   "cell_type": "code",
   "execution_count": 38,
   "metadata": {},
   "outputs": [],
   "source": [
    "#btntt = nltk.tag.brill_trainer.BrillTaggerTrainer(tntt, nltk.tag.brill.brill24()).train(train_sents)\n",
    "#print(\"BRILL + TNT: \", btntt.evaluate(test_sents))"
   ]
  },
  {
   "cell_type": "code",
   "execution_count": 39,
   "metadata": {},
   "outputs": [
    {
     "name": "stdout",
     "output_type": "stream",
     "text": [
      "BRILL + AFFIX:  0.9066791587563796\n"
     ]
    }
   ],
   "source": [
    "bat = nltk.tag.brill_trainer.BrillTaggerTrainer(at, nltk.tag.brill.brill24()).train(train_sents)\n",
    "print(\"BRILL + AFFIX: \", bat.evaluate(test_sents)) "
   ]
  },
  {
   "cell_type": "markdown",
   "metadata": {},
   "source": [
    "<h3>Čuvanje tagera</h3>\n",
    "\n",
    "Treniranje na većim korpusima može zahtijevati značajne resurse, te je korisno rezultate čuvati za sledeću upotrebu. Standard za ovu upotrebu u jeziku Pajton je biblioteka \"Pickle\"."
   ]
  },
  {
   "cell_type": "code",
   "execution_count": 40,
   "metadata": {},
   "outputs": [],
   "source": [
    "from pickle import dump\n",
    "output = open('t2.pkl','wb')\n",
    "dump(t2, output, -1)\n",
    "output.close()"
   ]
  },
  {
   "cell_type": "markdown",
   "metadata": {},
   "source": [
    "Ovaj objekat se kasnije može učitati i ponovno koristiti za tagiranje, npr:"
   ]
  },
  {
   "cell_type": "code",
   "execution_count": 41,
   "metadata": {},
   "outputs": [],
   "source": [
    "from pickle import load\n",
    "input = open('t2.pkl','rb')\n",
    "t2 = load(input)\n",
    "input.close()"
   ]
  },
  {
   "cell_type": "code",
   "execution_count": 42,
   "metadata": {},
   "outputs": [
    {
     "data": {
      "text/plain": [
       "[('Danas', 'ADV'),\n",
       " ('je', 'AUX'),\n",
       " ('lijep', 'NOUN'),\n",
       " ('i', 'CCONJ'),\n",
       " ('sunčan', 'NOUN'),\n",
       " ('dan', 'NOUN')]"
      ]
     },
     "execution_count": 42,
     "metadata": {},
     "output_type": "execute_result"
    }
   ],
   "source": [
    "text = nltk.word_tokenize(\"Danas je lijep i sunčan dan\")\n",
    "t2.tag(text)"
   ]
  },
  {
   "cell_type": "code",
   "execution_count": null,
   "metadata": {},
   "outputs": [],
   "source": []
  }
 ],
 "metadata": {
  "kernelspec": {
   "display_name": "Python 3",
   "language": "python",
   "name": "python3"
  },
  "language_info": {
   "codemirror_mode": {
    "name": "ipython",
    "version": 3
   },
   "file_extension": ".py",
   "mimetype": "text/x-python",
   "name": "python",
   "nbconvert_exporter": "python",
   "pygments_lexer": "ipython3",
   "version": "3.7.3"
  }
 },
 "nbformat": 4,
 "nbformat_minor": 2
}
